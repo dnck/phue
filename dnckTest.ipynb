{
 "cells": [
  {
   "cell_type": "markdown",
   "metadata": {},
   "source": [
    "# Test Notebook"
   ]
  },
  {
   "cell_type": "code",
   "execution_count": 1,
   "metadata": {},
   "outputs": [],
   "source": [
    "#!/usr/bin/python\n",
    "from phue import Bridge\n",
    "import random\n",
    "import time"
   ]
  },
  {
   "cell_type": "code",
   "execution_count": 11,
   "metadata": {},
   "outputs": [
    {
     "data": {
      "text/plain": [
       "[<phue.Light object \"center\" at 0x1122163c8>,\n",
       " <phue.Light object \"buddha\" at 0x112351e80>,\n",
       " <phue.Light object \"bed\" at 0x112351320>]"
      ]
     },
     "execution_count": 11,
     "metadata": {},
     "output_type": "execute_result"
    }
   ],
   "source": [
    "myBedroom = '192.168.178.47'\n",
    "#If running for the first time, press button on bridge and run with b.connect() uncommented\n",
    "b = Bridge(ip=myBedroom) \n",
    "b.connect()\n",
    "lights = b.get_light_objects()\n",
    "lights"
   ]
  },
  {
   "cell_type": "code",
   "execution_count": 12,
   "metadata": {},
   "outputs": [],
   "source": [
    "center = b['center']\n",
    "buddha = b['buddha']\n",
    "bed = b['bed']\n",
    "buddha.on = True\n",
    "buddha.hue = 27000"
   ]
  },
  {
   "cell_type": "code",
   "execution_count": 41,
   "metadata": {},
   "outputs": [],
   "source": [
    "runTime = 1\n",
    "t_end = time.time() + 60 * runTime\n",
    "while time.time() < t_end:\n",
    "    buddha.on = True\n",
    "    time.sleep(1.0)\n",
    "    buddha.on = False\n",
    "    time.sleep(1.0)\n",
    "buddha.on = True\n",
    "buddha.hue = 27000"
   ]
  },
  {
   "cell_type": "code",
   "execution_count": 48,
   "metadata": {},
   "outputs": [],
   "source": [
    "loopHues = [45000, 50000, 55000]"
   ]
  },
  {
   "cell_type": "code",
   "execution_count": 82,
   "metadata": {},
   "outputs": [],
   "source": [
    "runTime = 1\n",
    "t_end = time.time() + 60 * runTime\n",
    "while time.time() < t_end:\n",
    "    for j in (*range(0, 2, 1), *range(2, 0, -1)):\n",
    "\n",
    "        buddha.on = True\n",
    "        buddha.hue = loopHues[j] \n",
    "        time.sleep(1.0)\n",
    "\n",
    "        buddha.on = False\n",
    "        center.on = True \n",
    "        center.hue = loopHues[j] \n",
    "        time.sleep(1.0)\n",
    "\n",
    "        center.on = False \n",
    "        bed.on = True \n",
    "        bed.hue = loopHues[j]\n",
    "        time.sleep(1.0)    \n",
    "        bed.on = False \n"
   ]
  },
  {
   "cell_type": "code",
   "execution_count": 83,
   "metadata": {},
   "outputs": [],
   "source": [
    "buddha.on = True\n",
    "buddha.hue = 50000"
   ]
  }
 ],
 "metadata": {
  "kernelspec": {
   "display_name": "Python 3",
   "language": "python",
   "name": "python3"
  },
  "language_info": {
   "codemirror_mode": {
    "name": "ipython",
    "version": 3
   },
   "file_extension": ".py",
   "mimetype": "text/x-python",
   "name": "python",
   "nbconvert_exporter": "python",
   "pygments_lexer": "ipython3",
   "version": "3.6.5"
  }
 },
 "nbformat": 4,
 "nbformat_minor": 2
}
